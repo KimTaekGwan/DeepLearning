{
 "cells": [
  {
   "cell_type": "code",
   "execution_count": 2,
   "metadata": {},
   "outputs": [],
   "source": [
    "import numpy as np\n",
    "import pandas as pd\n",
    "import matplotlib.pyplot as plt"
   ]
  },
  {
   "cell_type": "code",
   "execution_count": 3,
   "metadata": {},
   "outputs": [],
   "source": [
    "import time\n",
    "from IPython.display import clear_output"
   ]
  },
  {
   "cell_type": "code",
   "execution_count": 4,
   "metadata": {},
   "outputs": [],
   "source": [
    "import tensorflow as tf\n",
    "from tensorflow import keras\n",
    "from tensorflow.keras import Sequential, optimizers\n",
    "from tensorflow.keras.layers import Input, Flatten, Dense\n",
    "from tensorflow.keras.layers import Dropout, BatchNormalization\n",
    "from tensorflow.keras.layers import Conv2D, MaxPooling2D, Reshape\n",
    "from tensorflow.keras.callbacks import Callback, ModelCheckpoint, EarlyStopping, ReduceLROnPlateau\n",
    "# from tensorflow.keras.regularizers import l1, l2, L1L2"
   ]
  },
  {
   "cell_type": "code",
   "execution_count": 5,
   "metadata": {},
   "outputs": [],
   "source": [
    "(raw_train_x, raw_train_y), (raw_test_x, raw_test_y) = tf.keras.datasets.mnist.load_data()\n",
    "\n",
    "train_x = raw_train_x/255\n",
    "test_x = raw_test_x/255\n",
    "\n",
    "train_y = raw_train_y\n",
    "test_y = raw_test_y"
   ]
  },
  {
   "cell_type": "code",
   "execution_count": 11,
   "metadata": {},
   "outputs": [],
   "source": [
    "def build_model():\n",
    "    model = keras.Sequential()\n",
    "    model.add(Input((28,28)))\n",
    "    model.add(Reshape((28,28,1))) # ADDED\n",
    "    model.add(Conv2D(32, (3, 3))) # ADDED\n",
    "    model.add(MaxPooling2D((2, 2))) # ADDED\n",
    "    model.add(Conv2D(64, (3, 3))) # ADDED\n",
    "    model.add(MaxPooling2D((2, 2))) # ADDED\n",
    "    model.add(Flatten())\n",
    "    model.add(Dense(10, activation='relu'))\n",
    "    model.add(Dense(10, activation='relu'))\n",
    "    model.add(Dense(10, activation='softmax'))\n",
    "\n",
    "    model.compile(optimizer=\"adam\", \n",
    "                    loss=\"sparse_categorical_crossentropy\", \n",
    "                    metrics=[\"accuracy\"])\n",
    "    return model"
   ]
  },
  {
   "cell_type": "code",
   "execution_count": 15,
   "metadata": {},
   "outputs": [],
   "source": [
    "class PlotLosses(Callback):\n",
    "    def on_train_begin(self, logs={}):\n",
    "        self.i = 0\n",
    "        self.x = []\n",
    "        self.losses = []\n",
    "        self.val_losses = []\n",
    "        self.accuracies = []\n",
    "        self.val_accuracies = []\n",
    "\n",
    "        self.fig = plt.figure()\n",
    "\n",
    "        self.logs = []\n",
    "\n",
    "    def on_epoch_end(self, epoch, logs={}):\n",
    "        self.logs.append(logs)\n",
    "        self.x.append(self.i)\n",
    "        self.losses.append(logs.get('loss'))\n",
    "        self.val_losses.append(logs.get('val_loss'))\n",
    "        self.accuracies.append(logs.get('accuracy'))\n",
    "        self.val_accuracies.append(logs.get('val_accuracy'))\n",
    "        self.i += 1\n",
    "\n",
    "        clear_output(wait=True)\n",
    "        \n",
    "        fig, ax = plt.subplots()\n",
    "        ax.plot(self.x, self.losses, label=\"loss\")\n",
    "        ax.plot(self.x, self.val_losses, label=\"val_loss\")\n",
    "        \n",
    "        ax2 = ax.twinx()\n",
    "        ax2.plot(self.x, self.accuracies, label=\"accuracy\")\n",
    "        ax2.plot(self.x, self.val_accuracies, label=\"val_accuracy\")\n",
    "        \n",
    "        ax.legend()\n",
    "        ax2.legend()\n",
    "        plt.show();\n",
    "        txt = f\"\"\"loss = {self.losses[-1]}\\n\\\n",
    "        val_loss = {self.val_losses[-1]}\\n\\\n",
    "        acc = {self.accuracies[-1]}\\n\\\n",
    "        val_accuracy = {self.val_accuracies[-1]}\"\"\"\n",
    "\n",
    "        print(txt)"
   ]
  },
  {
   "cell_type": "code",
   "execution_count": 16,
   "metadata": {},
   "outputs": [],
   "source": [
    "model_check_point = ModelCheckpoint('best_model.h5', monitor='val_loss', mode='min', save_best_only=True)\n",
    "plot_losses = PlotLosses()\n",
    "early_stopping = EarlyStopping(monitor='val_loss', mode='min', verbose=1, patience=50)\n",
    "reduce_lr = ReduceLROnPlateau(monitor='val_loss', factor=0.2, patience=5, min_learning_rate=0.001)\n",
    "\n",
    "callbacks = [model_check_point, plot_losses, early_stopping, reduce_lr]"
   ]
  },
  {
   "cell_type": "code",
   "execution_count": 17,
   "metadata": {},
   "outputs": [],
   "source": [
    "def fit_one_more(model, train_x, train_y, test_x, test_y, callbacks, batch_size=20):\n",
    "    start_time = time.time()\n",
    "    history = model.fit(train_x, train_y, epochs=1000, verbose=0, batch_size=batch_size, \n",
    "                validation_split=0.1, callbacks=callbacks)\n",
    "    # model.fit(train_x, train_y, epochs=1000, verbose=0, batch_size=batch_size,\n",
    "    #           validation_data=(test_x, test_y))\n",
    "    print(\"elapsed : {}\".format(time.time() - start_time))\n",
    "    return history"
   ]
  },
  {
   "cell_type": "code",
   "execution_count": 18,
   "metadata": {},
   "outputs": [],
   "source": [
    "model = build_model()"
   ]
  },
  {
   "cell_type": "code",
   "execution_count": 20,
   "metadata": {},
   "outputs": [
    {
     "data": {
      "text/plain": [
       "<Figure size 640x480 with 0 Axes>"
      ]
     },
     "metadata": {},
     "output_type": "display_data"
    },
    {
     "data": {
      "image/png": "[encoded data removed]",
      "text/plain": [
       "<Figure size 640x480 with 2 Axes>"
      ]
     },
     "metadata": {},
     "output_type": "display_data"
    },
    {
     "name": "stdout",
     "output_type": "stream",
     "text": [
      "loss = 0.4845894466417807\n",
      "        val_loss = 0.23090129669507345\n",
      "        acc = 0.8582037091255188\n",
      "        val_accuracy = 0.9318333268165588\n",
      "54000/54000 [==============================] - 81s 2ms/sample - loss: 0.4846 - accuracy: 0.8582 - val_loss: 0.2309 - val_accuracy: 0.9318\n"
     ]
    }
   ],
   "source": [
    "history = model.fit(train_x, train_y, epochs=1, verbose=1, batch_size=128, \n",
    "                validation_split=0.1, callbacks=callbacks)"
   ]
  },
  {
   "attachments": {},
   "cell_type": "markdown",
   "metadata": {},
   "source": [
    "- conv2d 파라미터 수 = (conv필터 가로 * conv 필터 세로 * 데이터 깊이 + bias 1개) * 필터 수"
   ]
  },
  {
   "cell_type": "code",
   "execution_count": null,
   "metadata": {},
   "outputs": [],
   "source": []
  }
 ],
 "metadata": {
  "kernelspec": {
   "display_name": "keras_3.7",
   "language": "python",
   "name": "python3"
  },
  "language_info": {
   "codemirror_mode": {
    "name": "ipython",
    "version": 3
   },
   "file_extension": ".py",
   "mimetype": "text/x-python",
   "name": "python",
   "nbconvert_exporter": "python",
   "pygments_lexer": "ipython3",
   "version": "3.7.16"
  },
  "orig_nbformat": 4,
  "vscode": {
   "interpreter": {
    "hash": "27af069d723b0cfe46bd665fbb9b418bddcbd044c941a8eb7bb373907486e407"
   }
  }
 },
 "nbformat": 4,
 "nbformat_minor": 2
}
