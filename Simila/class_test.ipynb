{
 "cells": [
  {
   "cell_type": "code",
   "execution_count": 1,
   "metadata": {},
   "outputs": [],
   "source": [
    "from module import *"
   ]
  },
  {
   "cell_type": "code",
   "execution_count": 2,
   "metadata": {},
   "outputs": [],
   "source": [
    "import os\n",
    "from tqdm import tqdm"
   ]
  },
  {
   "cell_type": "code",
   "execution_count": 3,
   "metadata": {},
   "outputs": [],
   "source": [
    "util = Util()\n",
    "ppt = PPT_Info_Extract()\n",
    "pdf = PDF_Info_Extract()"
   ]
  },
  {
   "cell_type": "code",
   "execution_count": 4,
   "metadata": {},
   "outputs": [
    {
     "name": "stdout",
     "output_type": "stream",
     "text": [
      "2021-019 일회용컵 사용 절감을 위한 그린 뉴딜정책 개선 방안 제시(PPT).pdf\n",
      ".pdf\n"
     ]
    },
    {
     "name": "stderr",
     "output_type": "stream",
     "text": [
      "PdfReadError(\"Invalid Elementary Object starting with b'B' @2891061: b'oPubWorld\\\\xb9\\\\xd9\\\\xc5\\\\xc1\\\\xc3\\\\xbc_Pro Bold\\\\n/Encoding /Identity-H\\\\n\\\\n/DescendantFonts [ 1121 0 R\\\\n ] \\\\n'\")\n",
      "PdfReadError(\"Invalid Elementary Object starting with b'B' @2890814: b'oPubWorld\\\\xb9\\\\xd9\\\\xc5\\\\xc1\\\\xc3\\\\xbc_Pro Bold\\\\n/Encoding /Identity-H\\\\n\\\\n/DescendantFonts [ 1115 0 R\\\\n ] \\\\n'\")\n"
     ]
    },
    {
     "name": "stdout",
     "output_type": "stream",
     "text": [
      "2021-026 각 시도별 도시 경쟁력 지표 측정 및 이를 통한 시도간 인구이동의 분석과 이해.pdf\n",
      ".pdf\n"
     ]
    },
    {
     "name": "stderr",
     "output_type": "stream",
     "text": [
      "PdfReadError(\"Invalid Elementary Object starting with b'B' @1446417: b'oPubWorld\\\\xb9\\\\xd9\\\\xc5\\\\xc1\\\\xc3\\\\xbc_Pro Bold\\\\n/Encoding /Identity-H\\\\n\\\\n/DescendantFonts [ 1067 0 R\\\\n ] \\\\n'\")\n",
      "PdfReadError(\"Invalid Elementary Object starting with b'B' @1446859: b'oPubWorld\\\\xb9\\\\xd9\\\\xc5\\\\xc1\\\\xc3\\\\xbc_Pro Bold\\\\n/Encoding /Identity-H\\\\n\\\\n/DescendantFonts [ 1055 0 R\\\\n ] \\\\n'\")\n"
     ]
    },
    {
     "name": "stdout",
     "output_type": "stream",
     "text": [
      "deep_learning_intro.pptx\n",
      ".pptx\n",
      "test2.pdf\n",
      ".pdf\n"
     ]
    },
    {
     "name": "stderr",
     "output_type": "stream",
     "text": [
      "PdfReadError(\"Invalid Elementary Object starting with b'B' @2891061: b'oPubWorld\\\\xb9\\\\xd9\\\\xc5\\\\xc1\\\\xc3\\\\xbc_Pro Bold\\\\n/Encoding /Identity-H\\\\n\\\\n/DescendantFonts [ 1121 0 R\\\\n ] \\\\n'\")\n",
      "PdfReadError(\"Invalid Elementary Object starting with b'B' @2890814: b'oPubWorld\\\\xb9\\\\xd9\\\\xc5\\\\xc1\\\\xc3\\\\xbc_Pro Bold\\\\n/Encoding /Identity-H\\\\n\\\\n/DescendantFonts [ 1115 0 R\\\\n ] \\\\n'\")\n"
     ]
    },
    {
     "name": "stdout",
     "output_type": "stream",
     "text": [
      "test3.pdf\n",
      ".pdf\n",
      "2021-003 서울특별시 ‘여성안심홈세트지원서비스’정책 분배적절성 분석_수정.pdf\n",
      ".pdf\n",
      "2021-032 연령구조를 고려한 지역별 구급 출동 건수 예측(PPT).pdf\n",
      ".pdf\n",
      "test.pdf\n",
      ".pdf\n",
      "2021-002 강서구 소방 안전센터 최적 입지 선정(PPT).pdf\n",
      ".pdf\n"
     ]
    }
   ],
   "source": [
    "input_dir = 'data/input/'\n",
    "original_dir = 'data/original/'\n",
    "for file_name in os.listdir(input_dir):\n",
    "for file_name in os.listdir(original_dir):\n",
    "    name, ext = os.path.splitext(file_name)\n",
    "    print(file_name)\n",
    "    util.dir_Update(file_name)\n",
    "    \n",
    "    print(ext)\n",
    "    if ext == '.pdf':\n",
    "        pdf.extract(file_name)\n",
    "    elif ext in ['.pptx', '.ppt']:\n",
    "        ppt.extract(file_name)"
   ]
  },
  {
   "cell_type": "code",
   "execution_count": 7,
   "metadata": {},
   "outputs": [
    {
     "ename": "TypeError",
     "evalue": "'str' object is not callable",
     "output_type": "error",
     "traceback": [
      "\u001b[0;31m---------------------------------------------------------------------------\u001b[0m",
      "\u001b[0;31mTypeError\u001b[0m                                 Traceback (most recent call last)",
      "\u001b[0;32m/var/folders/6l/xb97c1s56114bywmg2k5qs8c0000gn/T/ipykernel_418/571189730.py\u001b[0m in \u001b[0;36m<module>\u001b[0;34m\u001b[0m\n\u001b[0;32m----> 1\u001b[0;31m \u001b[0mpdf\u001b[0m\u001b[0;34m.\u001b[0m\u001b[0mtext_info\u001b[0m\u001b[0;34m(\u001b[0m\u001b[0;34m)\u001b[0m\u001b[0;34m\u001b[0m\u001b[0;34m\u001b[0m\u001b[0m\n\u001b[0m",
      "\u001b[0;31mTypeError\u001b[0m: 'str' object is not callable"
     ]
    }
   ],
   "source": [
    "pdf.text_info()"
   ]
  },
  {
   "cell_type": "code",
   "execution_count": 8,
   "metadata": {},
   "outputs": [
    {
     "data": {
      "text/plain": [
       "['']"
      ]
     },
     "execution_count": 8,
     "metadata": {},
     "output_type": "execute_result"
    }
   ],
   "source": [
    "pdf.pre_text"
   ]
  },
  {
   "cell_type": "code",
   "execution_count": 5,
   "metadata": {},
   "outputs": [],
   "source": [
    "input_dir = 'data/input/'\n",
    "for file_name in os.listdir(input_dir):\n",
    "    # print(file_name)\n",
    "    util.dir_Update(file_name)"
   ]
  },
  {
   "cell_type": "code",
   "execution_count": null,
   "metadata": {},
   "outputs": [],
   "source": []
  },
  {
   "cell_type": "code",
   "execution_count": 2,
   "metadata": {},
   "outputs": [],
   "source": [
    "ppt = PPT_Info_Extract()"
   ]
  },
  {
   "cell_type": "code",
   "execution_count": 3,
   "metadata": {},
   "outputs": [],
   "source": [
    "ppt.image_blob = 'ss'"
   ]
  },
  {
   "cell_type": "code",
   "execution_count": 4,
   "metadata": {},
   "outputs": [],
   "source": [
    "ppt.reset()"
   ]
  },
  {
   "cell_type": "code",
   "execution_count": 5,
   "metadata": {},
   "outputs": [
    {
     "ename": "FileNotFoundError",
     "evalue": "[Errno 2] No such file or directory: 'data/res/image_001.png'",
     "output_type": "error",
     "traceback": [
      "\u001b[0;31m---------------------------------------------------------------------------\u001b[0m",
      "\u001b[0;31mFileNotFoundError\u001b[0m                         Traceback (most recent call last)",
      "\u001b[0;32m/var/folders/6l/xb97c1s56114bywmg2k5qs8c0000gn/T/ipykernel_88368/3188695291.py\u001b[0m in \u001b[0;36m<module>\u001b[0;34m\u001b[0m\n\u001b[1;32m      1\u001b[0m \u001b[0mpath\u001b[0m \u001b[0;34m=\u001b[0m \u001b[0;34m'data/original/deep_learning_intro.pptx'\u001b[0m\u001b[0;34m\u001b[0m\u001b[0;34m\u001b[0m\u001b[0m\n\u001b[0;32m----> 2\u001b[0;31m \u001b[0mppt\u001b[0m\u001b[0;34m.\u001b[0m\u001b[0mextract\u001b[0m\u001b[0;34m(\u001b[0m\u001b[0mpath\u001b[0m\u001b[0;34m)\u001b[0m\u001b[0;34m\u001b[0m\u001b[0;34m\u001b[0m\u001b[0m\n\u001b[0m",
      "\u001b[0;32m~/Desktop/DeepLearning/Simila/module.py\u001b[0m in \u001b[0;36mextract\u001b[0;34m(self, path)\u001b[0m\n\u001b[1;32m     84\u001b[0m             \u001b[0mself\u001b[0m\u001b[0;34m.\u001b[0m\u001b[0mpage_num\u001b[0m \u001b[0;34m=\u001b[0m \u001b[0midx\u001b[0m\u001b[0;34m+\u001b[0m\u001b[0;36m1\u001b[0m\u001b[0;34m\u001b[0m\u001b[0;34m\u001b[0m\u001b[0m\n\u001b[1;32m     85\u001b[0m             \u001b[0;32mfor\u001b[0m \u001b[0mshape\u001b[0m \u001b[0;32min\u001b[0m \u001b[0mslide\u001b[0m\u001b[0;34m.\u001b[0m\u001b[0mshapes\u001b[0m\u001b[0;34m:\u001b[0m\u001b[0;34m\u001b[0m\u001b[0;34m\u001b[0m\u001b[0m\n\u001b[0;32m---> 86\u001b[0;31m                 \u001b[0mself\u001b[0m\u001b[0;34m.\u001b[0m\u001b[0mgroup_check\u001b[0m\u001b[0;34m(\u001b[0m\u001b[0mshape\u001b[0m\u001b[0;34m)\u001b[0m\u001b[0;34m\u001b[0m\u001b[0;34m\u001b[0m\u001b[0m\n\u001b[0m\u001b[1;32m     87\u001b[0m \u001b[0;34m\u001b[0m\u001b[0m\n\u001b[1;32m     88\u001b[0m         \u001b[0mself\u001b[0m\u001b[0;34m.\u001b[0m\u001b[0mlast\u001b[0m\u001b[0;34m(\u001b[0m\u001b[0;34m)\u001b[0m\u001b[0;34m\u001b[0m\u001b[0;34m\u001b[0m\u001b[0m\n",
      "\u001b[0;32m~/Desktop/DeepLearning/Simila/module.py\u001b[0m in \u001b[0;36mgroup_check\u001b[0;34m(self, shape)\u001b[0m\n\u001b[1;32m    117\u001b[0m         \u001b[0;31m# 그룹 모형 아님\u001b[0m\u001b[0;34m\u001b[0m\u001b[0;34m\u001b[0m\u001b[0;34m\u001b[0m\u001b[0m\n\u001b[1;32m    118\u001b[0m         \u001b[0;32melse\u001b[0m\u001b[0;34m:\u001b[0m\u001b[0;34m\u001b[0m\u001b[0;34m\u001b[0m\u001b[0m\n\u001b[0;32m--> 119\u001b[0;31m             \u001b[0mself\u001b[0m\u001b[0;34m.\u001b[0m\u001b[0minfo_extract\u001b[0m\u001b[0;34m(\u001b[0m\u001b[0mshape\u001b[0m\u001b[0;34m)\u001b[0m\u001b[0;34m\u001b[0m\u001b[0;34m\u001b[0m\u001b[0m\n\u001b[0m\u001b[1;32m    120\u001b[0m \u001b[0;34m\u001b[0m\u001b[0m\n\u001b[1;32m    121\u001b[0m     \u001b[0;32mdef\u001b[0m \u001b[0minfo_extract\u001b[0m\u001b[0;34m(\u001b[0m\u001b[0mself\u001b[0m\u001b[0;34m,\u001b[0m \u001b[0mshape\u001b[0m\u001b[0;34m)\u001b[0m\u001b[0;34m:\u001b[0m\u001b[0;34m\u001b[0m\u001b[0;34m\u001b[0m\u001b[0m\n",
      "\u001b[0;32m~/Desktop/DeepLearning/Simila/module.py\u001b[0m in \u001b[0;36minfo_extract\u001b[0;34m(self, shape)\u001b[0m\n\u001b[1;32m    135\u001b[0m                         \u001b[0mnum\u001b[0m \u001b[0;34m=\u001b[0m \u001b[0mstr\u001b[0m\u001b[0;34m(\u001b[0m\u001b[0mself\u001b[0m\u001b[0;34m.\u001b[0m\u001b[0mimg_num\u001b[0m\u001b[0;34m)\u001b[0m\u001b[0;34m.\u001b[0m\u001b[0mzfill\u001b[0m\u001b[0;34m(\u001b[0m\u001b[0;36m3\u001b[0m\u001b[0;34m)\u001b[0m\u001b[0;34m\u001b[0m\u001b[0;34m\u001b[0m\u001b[0m\n\u001b[1;32m    136\u001b[0m                         \u001b[0msave_path\u001b[0m \u001b[0;34m=\u001b[0m\u001b[0;34mf\"data/res/image_{num}.{ext}\"\u001b[0m\u001b[0;34m\u001b[0m\u001b[0;34m\u001b[0m\u001b[0m\n\u001b[0;32m--> 137\u001b[0;31m                         \u001b[0;32mwith\u001b[0m \u001b[0mopen\u001b[0m\u001b[0;34m(\u001b[0m\u001b[0msave_path\u001b[0m\u001b[0;34m,\u001b[0m \u001b[0;34m\"wb\"\u001b[0m\u001b[0;34m)\u001b[0m \u001b[0;32mas\u001b[0m \u001b[0mfile\u001b[0m\u001b[0;34m:\u001b[0m\u001b[0;34m\u001b[0m\u001b[0;34m\u001b[0m\u001b[0m\n\u001b[0m\u001b[1;32m    138\u001b[0m                             \u001b[0mfile\u001b[0m\u001b[0;34m.\u001b[0m\u001b[0mwrite\u001b[0m\u001b[0;34m(\u001b[0m\u001b[0mimage_blob\u001b[0m\u001b[0;34m)\u001b[0m\u001b[0;34m\u001b[0m\u001b[0;34m\u001b[0m\u001b[0m\n\u001b[1;32m    139\u001b[0m                         \u001b[0mself\u001b[0m\u001b[0;34m.\u001b[0m\u001b[0mimage_blob\u001b[0m\u001b[0;34m.\u001b[0m\u001b[0mappend\u001b[0m\u001b[0;34m(\u001b[0m\u001b[0mimage_blob\u001b[0m\u001b[0;34m)\u001b[0m\u001b[0;34m\u001b[0m\u001b[0;34m\u001b[0m\u001b[0m\n",
      "\u001b[0;31mFileNotFoundError\u001b[0m: [Errno 2] No such file or directory: 'data/res/image_001.png'"
     ]
    }
   ],
   "source": [
    "path = 'data/original/deep_learning_intro.pptx'\n",
    "ppt.extract(path)"
   ]
  },
  {
   "cell_type": "code",
   "execution_count": 13,
   "metadata": {},
   "outputs": [],
   "source": [
    "import os\n",
    "# os.listdir()\n",
    "\n",
    "def createFolder(name):\n",
    "    path = '/Users/ktg/Desktop/DeepLearning/Simila/data/res'\n",
    "    directory = path + '/' + name\n",
    "    try:\n",
    "        # 새로운 name\n",
    "        if not os.path.exists(directory):\n",
    "            os.mkdir(directory)\n",
    "        \n",
    "        # 이미 존재 name\n",
    "        else:\n",
    "            pass\n",
    "        \n",
    "    except OSError:\n",
    "        print('Error: Creating directory.' + directory)\n",
    "            \n",
    "createFolder('hellos')"
   ]
  },
  {
   "cell_type": "code",
   "execution_count": 37,
   "metadata": {},
   "outputs": [],
   "source": [
    "import os\n",
    "import shutil\n",
    "\n",
    "for file_name in os.listdir(input_dir):\n",
    "    dir_Update(file_name)\n",
    "\n",
    "def dir_Update(file_name):\n",
    "    input_dir = 'data/input/'\n",
    "    res_dir = 'data/image/'\n",
    "    data_dir = 'data/original/'\n",
    "    \n",
    "    name, ext = os.path.splitext(file_name)\n",
    "    input_path = os.path.join(input_dir, file_name)\n",
    "    img_path = os.path.join(res_dir, name)\n",
    "    data_path = os.path.join(data_dir, file_name)\n",
    "    \n",
    "    if os.path.isfile(data_path):\n",
    "        with open(input_path, 'rb') as input_file, open(data_path, 'rb') as data_file:\n",
    "            input_content = input_file.read()\n",
    "            data_content = data_file.read()\n",
    "            if input_content == data_content:\n",
    "                print(f\"{file_name} already exists\")\n",
    "            else:\n",
    "                # file 이름 변경 후 다시 재귀하기\n",
    "                print(f\"{file_name} 이름이 같은 파일이 존재 - 이름을 변경해서 올려주세요\")\n",
    "                # os.rename()\n",
    "    else:\n",
    "        os.makedirs(img_path)\n",
    "        shutil.move(input_path, data_dir)\n"
   ]
  },
  {
   "cell_type": "code",
   "execution_count": null,
   "metadata": {},
   "outputs": [],
   "source": []
  }
 ],
 "metadata": {
  "kernelspec": {
   "display_name": "ppt_3_7",
   "language": "python",
   "name": "python3"
  },
  "language_info": {
   "codemirror_mode": {
    "name": "ipython",
    "version": 3
   },
   "file_extension": ".py",
   "mimetype": "text/x-python",
   "name": "python",
   "nbconvert_exporter": "python",
   "pygments_lexer": "ipython3",
   "version": "3.7.16"
  },
  "orig_nbformat": 4,
  "vscode": {
   "interpreter": {
    "hash": "a0cc08dc29aad09da65be7821d0eeaddf64caec4e877dc2ce9e5b3cd8bcad43f"
   }
  }
 },
 "nbformat": 4,
 "nbformat_minor": 2
}
