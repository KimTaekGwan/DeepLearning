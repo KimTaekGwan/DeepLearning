{
 "cells": [
  {
   "cell_type": "code",
   "execution_count": 1,
   "metadata": {},
   "outputs": [],
   "source": [
    "from module import *\n",
    "import os\n",
    "from tqdm import tqdm"
   ]
  },
  {
   "cell_type": "code",
   "execution_count": 2,
   "metadata": {},
   "outputs": [],
   "source": [
    "util = Util()\n",
    "ppt = PPT_Info_Extract()\n",
    "pdf = PDF_Info_Extract()"
   ]
  },
  {
   "cell_type": "code",
   "execution_count": 3,
   "metadata": {},
   "outputs": [],
   "source": [
    "txt = '2021-032 연령구조를 고려한 지역별 구급 출동 건수 예측(PPT).pdf'\n",
    "name, ext = os.path.splitext(txt)"
   ]
  },
  {
   "cell_type": "code",
   "execution_count": 7,
   "metadata": {},
   "outputs": [
    {
     "data": {
      "text/plain": [
       "'연령 구조 고려 지역 구 급 출동 건수 예측 목 차 배경 연구 배경 연구 필요 선행 연구 검토 분석 결과 경기도 연령 인구 분포 구급 사고 발생 비율 공간 회귀 분석 결과 추정 잔 차 비교 분석 자료 방법 분석 자료 분석 방법 결론 한계점 결론 의 한계 점 추후 과제 구 급 서비스 국민 안전 필수 요소 해 년 기준 국민 명 중 명 이용 만큼 국민 건강 증진 중요 영향 연합뉴스 연구 배경 구급 인력 공급 구급 서비스 근간 적정 수준 확보 중요 현재 비판 제기 시군구 수준 구급 출동 수원 년 월 동안 출동 건수 건 구급 인력 명 구급차 대 경인일보 연구 필요 국민 안전 효과 집단 응급 상황 발생 확률 다양 변수 포함 예측 모형 현실 것 바 람 직함 연령 역학 중요 변수 중 하나 구급 출동 요청 연령대 차이 중앙 일보 거주 인구 직장인 구 특성 등 변수 지역 사고 발생 건수 체계 편차 발생 수 노년 인구 분 지역 전체 구급 출동 건수 것 건수 구급 상황 경중 예측 대응 필요 위험 상황 심 정지 등 예상 발생 건수 상대 상황 낙상 등 발생 건수 분리 예측 대응 것 필요 지역 필요 양 측면 정밀 질 측면 세분 분석 그 인력 배치 것 연구 필요 선행 연구 검토 정홍 상 외 윤명오 외 조병준외 이창원 외 최근 년 간 출동 건 수 예측 최적 인 물 적자 원 배치 연구 정성분석 경우 수요 증감 여부 예측 정량 분석 경우 변수 다양 면적 총 구 활용 종속 변수 구급 출동 전체 건수 고려 위급 상황 건수 추산 한국 정보 학회 연구 용역 관할 인구 관할 면적 기타 변수 용모 분석 이창원 외 은 공간 자기 상관 문제 고려 모형 으 분석 함 지역 간 교통 출퇴근 생활 등 상당 자기 상관 존재 것 공간 독립 가정 모형 공간 의자 기상 관 가정 모형 모형 연구 모형 활용 인구 총조사 기본 인구 성 연령 직장 인구 자료 직장 인구수 중 이상 비율 분석 자료 자료 기관 활용 지침 준수 추출 국가 공간 정보 포털 홈페이지 법정 동 경계 통계 데이터 센터 홈페이지 행정 기관 행정 동 법정동 코드 경기도 교통 정보 센터 법정동 별 면적 경기 데이터 드림 구급 활동 현황 분석 방법 종속 변수 년 법정 동 구 급 사고 발생 건수 생명 경우 위급 상황 발생 건수 고려 독립 변수 법정 동 면적 전체 인구 수세미 인구수 이상 세미 인구수 이상 인구 수세미 직장 인구수 비율 세 이상 직장 인구수 비율 가지 인구 변수 거주 인구 직장 인구 개념 세분 이 연령 구조 고려 오차 항간 자기 상관 분석 시각 법정 동 오차 항간 자기 상관 존재 상정 생활 교통 지역 경제 수준 등 변수 통제 지역 특성 오 차 항 지역 간 상관 것 가정 공간 가중 행렬 법정 동 중점 간 거리 역 수 설정 분석 코드 모형 모형 모형 모형 분석 결과 경기도 연령 인구 분포 구급 사고 발생 비율 노년 세 이상 경우 구 급 사고 위급 상황 비율 상승 면적 총인구 노년 비율 고려 예측 모형 이 구급 자원 배치 것 수 그림 년 경기도 연령 인구 분포 구급 사고 발생 비율 년 기준 구급 사고 발생 건수 약 위급 상황 발생 건수 약 천 건 공간 회귀 분석 결과 표 공간 회귀 분석 결과 구급 사고 발생 건수 면적 총인구 세미 인구수 이상 세미 인구수 이상 인구수 직장 인구 중세 미만 인구 비율 직장 인구 중 이상 인구 비율 상수항 가중 행렬 유의 법정동 별오차 항 자기 상관 존재 것 의미 법정 동 간 독립 가정 법정동 간 자기 상관 가정 모형 것 확인 모형 인구 수 구급 사고 발생 건수 것 수 모형 전체 인구수 변수 활용 경우 연령 인구수 등분 성년 층 청장년 노년 활용 경우 모형 설명력 점 수 모형 이상 직장 인구 비율 법정동 구급 사고 발생 건수 것 확인 지역 지역 특성 노년 층 인구 고령 지역 청장년 외부 출근 지역 추측 공간 회귀 분석 결과 표 공간 회귀 분석 결과 위급 상황 발생 건수 면적 총인구 세미 인구수 이상 세미 인구수 이상 인구수 직장 인구 중세 미만 인구 비율 직장 인구 중 이상 인구 비율 상수항 표 모형 모형 표 과 이상 인구수 변수 계수 유의 이 연령대 비 만 세 이상 경우 위급 상황 발생 확률 증가 때문 그림 법정 동 추정 잔 차 구급 사고 발생 건수 추정 잔 비교 왼쪽 지도 인구 면 고려 분석 결과 오른쪽 지도 연구 제안 인구 면적 연령 비율 분석 결과 임 분석 결과 연구 제안 사고 발생 건수 모형 상대 인구 도시 지역 성과 한편 인구 농촌 지역 성과 분석 시기 독립 변수 추가 모형 성능 개선 판단 잔 차 실제 발생 사고 건수 모형 예측 사고 건수 차감 값 의미 잔 차 절대 값 환산 지도 표기 분석 단위 사고 발생 건수 단위 개 그림 법정 동 추정 잔 위급 상황 발생 건수 추정 잔 비교 연구 제안 위급 황 발생 건수 모형 상대 인구 도시 지역 성과 한편 인구 농촌 지역 성과 분석 시기 독립 변수 추가 모형 성능 개선 판단 결론 의의 구급 자원 면적 인구 가지 기준 고려 배치 개념 모형 구급 사고 발생 건수 추정 이 대안 이창 원외 은 법정 동 자기 상관 고려 모형 활용 구 급 자원 배치 것 제시 이창 원외 모형 노년 경우 구 급 사고 응급 상황 발생 확률 것 고려 연구 세분 연령 변인 활용 분석 진행 분석 결과 기존 모형 이창 원외 모형 모형 성능 개선 것 확인 선행 연구 고려 종속 변수 응급 상황 발생 건수 추산 현실 구급 자원 배치 기준 마련 한계점 추후 과제 모형 개선 가지 방향 진행 예정 분석기 간 월 확장 것 횡단 면 공간 회귀 분석 패널 공간 회귀분석 수행 모형 설명력 기 증진 것 분석 공간 법정동 확장 것 현재 모형 서울 지역 법정 동 누락 정확 공간 가중 행렬 사용 추후 분석 서울 인천 지역 포함 정확 공간 상호 작용 모형 수 것 연령 변수 외 교통량 학교 공장 병원 위치 등 활용 독립 변수 추가 분석 것 고문헌 경기도 소방 재난 본부 홈페이지 경인일보 수도 인구 쏠림 소방 구급 인력 충원 년월일 윤명오 외 미래 지향 소방 서비스 수요 예측 중 장기 발전 방안 서울 시립 대학교 산학 협력 단 이성우 외 공간 계량 모형 응용 박 영사 이창원 외신 소방 력 산정 기준 개발 연구 한성대학교 산학 협력단 연합뉴스 작년 국민 명중 꼴 구급차 이송 심 뇌혈관 환자 이송 년월일 정홍 상 외 한국 소방 기관 설치 기준 개발 연구 용역 국 정보 학회 조병주 외 미래 재난 환경 대응 국민 수요 맞춤 구조 구급 정책 모델 개발 강원대학교 산학 협력단 중앙일보 구급 출동 요청 연령대 대가 위 년월일 감사'"
      ]
     },
     "execution_count": 7,
     "metadata": {},
     "output_type": "execute_result"
    }
   ],
   "source": [
    "pdf.extract(txt)\n",
    "pdf.preprocessing()\n",
    "pdf.pre_text"
   ]
  },
  {
   "cell_type": "code",
   "execution_count": 9,
   "metadata": {},
   "outputs": [
    {
     "name": "stdout",
     "output_type": "stream",
     "text": [
      "2021-019 일회용컵 사용 절감을 위한 그린 뉴딜정책 개선 방안 제시(PPT).pdf\n"
     ]
    },
    {
     "name": "stderr",
     "output_type": "stream",
     "text": [
      "PdfReadError(\"Invalid Elementary Object starting with b'B' @2891061: b'oPubWorld\\\\xb9\\\\xd9\\\\xc5\\\\xc1\\\\xc3\\\\xbc_Pro Bold\\\\n/Encoding /Identity-H\\\\n\\\\n/DescendantFonts [ 1121 0 R\\\\n ] \\\\n'\")\n",
      "PdfReadError(\"Invalid Elementary Object starting with b'B' @2890814: b'oPubWorld\\\\xb9\\\\xd9\\\\xc5\\\\xc1\\\\xc3\\\\xbc_Pro Bold\\\\n/Encoding /Identity-H\\\\n\\\\n/DescendantFonts [ 1115 0 R\\\\n ] \\\\n'\")\n"
     ]
    },
    {
     "name": "stdout",
     "output_type": "stream",
     "text": [
      ".DS_Store\n",
      "2021-026 각 시도별 도시 경쟁력 지표 측정 및 이를 통한 시도간 인구이동의 분석과 이해.pdf\n"
     ]
    },
    {
     "name": "stderr",
     "output_type": "stream",
     "text": [
      "PdfReadError(\"Invalid Elementary Object starting with b'B' @1446417: b'oPubWorld\\\\xb9\\\\xd9\\\\xc5\\\\xc1\\\\xc3\\\\xbc_Pro Bold\\\\n/Encoding /Identity-H\\\\n\\\\n/DescendantFonts [ 1067 0 R\\\\n ] \\\\n'\")\n",
      "PdfReadError(\"Invalid Elementary Object starting with b'B' @1446859: b'oPubWorld\\\\xb9\\\\xd9\\\\xc5\\\\xc1\\\\xc3\\\\xbc_Pro Bold\\\\n/Encoding /Identity-H\\\\n\\\\n/DescendantFonts [ 1055 0 R\\\\n ] \\\\n'\")\n"
     ]
    },
    {
     "name": "stdout",
     "output_type": "stream",
     "text": [
      "deep_learning_intro.pptx\n",
      "test2.pdf\n"
     ]
    },
    {
     "name": "stderr",
     "output_type": "stream",
     "text": [
      "PdfReadError(\"Invalid Elementary Object starting with b'B' @2891061: b'oPubWorld\\\\xb9\\\\xd9\\\\xc5\\\\xc1\\\\xc3\\\\xbc_Pro Bold\\\\n/Encoding /Identity-H\\\\n\\\\n/DescendantFonts [ 1121 0 R\\\\n ] \\\\n'\")\n",
      "PdfReadError(\"Invalid Elementary Object starting with b'B' @2890814: b'oPubWorld\\\\xb9\\\\xd9\\\\xc5\\\\xc1\\\\xc3\\\\xbc_Pro Bold\\\\n/Encoding /Identity-H\\\\n\\\\n/DescendantFonts [ 1115 0 R\\\\n ] \\\\n'\")\n"
     ]
    },
    {
     "name": "stdout",
     "output_type": "stream",
     "text": [
      "test3.pdf\n",
      "2021-003 서울특별시 ‘여성안심홈세트지원서비스’정책 분배적절성 분석_수정.pdf\n",
      "2021-032 연령구조를 고려한 지역별 구급 출동 건수 예측(PPT).pdf\n",
      "test.pdf\n",
      "2021-002 강서구 소방 안전센터 최적 입지 선정(PPT).pdf\n"
     ]
    }
   ],
   "source": [
    "input_dir = 'data/input/'\n",
    "original_dir = 'data/original/'\n",
    "# for file_name in os.listdir(input_dir):\n",
    "#     name, ext = os.path.splitext(file_name)\n",
    "#     print(file_name)\n",
    "#     util.dir_Update(file_name)\n",
    "    \n",
    "#     print(ext)\n",
    "#     if ext == '.pdf':\n",
    "#         pdf.extract(file_name)\n",
    "#     elif ext in ['.pptx', '.ppt']:\n",
    "#         ppt.extract(file_name)\n",
    "\n",
    "for file_name in os.listdir(original_dir):\n",
    "    name, ext = os.path.splitext(file_name)\n",
    "    print(file_name)\n",
    "    if ext == '.pdf':\n",
    "        pdf.extract(file_name)\n",
    "    elif ext in ['.pptx', '.ppt']:\n",
    "        ppt.extract(file_name)"
   ]
  },
  {
   "cell_type": "code",
   "execution_count": 5,
   "metadata": {},
   "outputs": [
    {
     "ename": "AttributeError",
     "evalue": "'NoneType' object has no attribute 'split'",
     "output_type": "error",
     "traceback": [
      "\u001b[0;31m---------------------------------------------------------------------------\u001b[0m",
      "\u001b[0;31mAttributeError\u001b[0m                            Traceback (most recent call last)",
      "\u001b[0;32m/var/folders/6l/xb97c1s56114bywmg2k5qs8c0000gn/T/ipykernel_9990/4047912939.py\u001b[0m in \u001b[0;36m<module>\u001b[0;34m\u001b[0m\n\u001b[0;32m----> 1\u001b[0;31m \u001b[0mppt\u001b[0m\u001b[0;34m.\u001b[0m\u001b[0mpreprocessing\u001b[0m\u001b[0;34m(\u001b[0m\u001b[0;34m)\u001b[0m\u001b[0;34m\u001b[0m\u001b[0;34m\u001b[0m\u001b[0m\n\u001b[0m\u001b[1;32m      2\u001b[0m \u001b[0mppt\u001b[0m\u001b[0;34m.\u001b[0m\u001b[0mpre_text\u001b[0m\u001b[0;34m\u001b[0m\u001b[0;34m\u001b[0m\u001b[0m\n",
      "\u001b[0;32m~/Desktop/DeepLearning/Simila/module.py\u001b[0m in \u001b[0;36mpreprocessing\u001b[0;34m(self)\u001b[0m\n\u001b[1;32m    281\u001b[0m \u001b[0;34m\u001b[0m\u001b[0m\n\u001b[1;32m    282\u001b[0m     \u001b[0;32mdef\u001b[0m \u001b[0mpreprocessing\u001b[0m\u001b[0;34m(\u001b[0m\u001b[0mself\u001b[0m\u001b[0;34m)\u001b[0m\u001b[0;34m:\u001b[0m\u001b[0;34m\u001b[0m\u001b[0;34m\u001b[0m\u001b[0m\n\u001b[0;32m--> 283\u001b[0;31m         \u001b[0mself\u001b[0m\u001b[0;34m.\u001b[0m\u001b[0mpre_text\u001b[0m \u001b[0;34m=\u001b[0m \u001b[0;34m' '\u001b[0m\u001b[0;34m.\u001b[0m\u001b[0mjoin\u001b[0m\u001b[0;34m(\u001b[0m\u001b[0;34m[\u001b[0m\u001b[0mt\u001b[0m \u001b[0;32mfor\u001b[0m \u001b[0mt\u001b[0m \u001b[0;32min\u001b[0m \u001b[0mself\u001b[0m\u001b[0;34m.\u001b[0m\u001b[0mtext_info\u001b[0m\u001b[0;34m.\u001b[0m\u001b[0msplit\u001b[0m\u001b[0;34m(\u001b[0m\u001b[0;34m'\\n'\u001b[0m\u001b[0;34m)\u001b[0m \u001b[0;32mif\u001b[0m \u001b[0mt\u001b[0m\u001b[0;34m]\u001b[0m\u001b[0;34m)\u001b[0m\u001b[0;34m\u001b[0m\u001b[0;34m\u001b[0m\u001b[0m\n\u001b[0m\u001b[1;32m    284\u001b[0m \u001b[0;34m\u001b[0m\u001b[0m\n\u001b[1;32m    285\u001b[0m         \u001b[0mself\u001b[0m\u001b[0;34m.\u001b[0m\u001b[0mpre_text\u001b[0m \u001b[0;34m=\u001b[0m \u001b[0mself\u001b[0m\u001b[0;34m.\u001b[0m\u001b[0mkiwi\u001b[0m\u001b[0;34m.\u001b[0m\u001b[0mspace\u001b[0m\u001b[0;34m(\u001b[0m\u001b[0mself\u001b[0m\u001b[0;34m.\u001b[0m\u001b[0mpre_text\u001b[0m\u001b[0;34m)\u001b[0m\u001b[0;34m\u001b[0m\u001b[0;34m\u001b[0m\u001b[0m\n",
      "\u001b[0;31mAttributeError\u001b[0m: 'NoneType' object has no attribute 'split'"
     ]
    }
   ],
   "source": []
  },
  {
   "cell_type": "code",
   "execution_count": 8,
   "metadata": {},
   "outputs": [
    {
     "data": {
      "text/plain": [
       "'년 통계 데이터 분석 활용 대회 목차 분석 배경 데이터 분석 분석 결과 분석 활용 전략 주제 선정 분석 목적 분석 전략 자료 출처 지표 세부 내역 데이터 분석 기대 효과 실현 가능 분석 배경 주제 선정 분석 목적 분석 전략 년 통계 데이터 분석 활용 대회 탄소 배출 환경 오염 분석 배경 주제 선정 일 회 컵 사용량 일 회 컵 활용 커피 전문점 수 탄소 배출 절감 관심 노력 출처 김한 상 년 억 개 증가 일 회 컵 사용량 회수 년 월 보증금 시행 아주경제 서울시 정부 문제 현황 년 통계 데이터 분석 활용 대회 분석 배경 주제 선정 기존 일 회 컵 보증금 일 회 컵 보증금 텀블링 년 시행 일 회 컵 이용 시 보증금 포함 가격 구매 후 매장 컵 반환 보증금 제도 미 반환 보증금 관리 문제 환경부 일부 업체 간 자발 협약 진행 대여 카페 반납 가능 일 회 컵 자체 감축 효과 미비 문제점 년 시행 예정 자원 순환 보증금 관리 위원회 설치 자원 활용 법 따름 자발 협약 대여 카페외타 카페 반납 가능 일 회 컵 자체 감축 효과 미비 카페 반납 카페 관리 부담 존재 문제점 개선 개선 분석 필요 년 통계 데이터 분석 활용 대회 분석 배경 공유 텀블러 제도 텀블링 일 회 컵 사용 절감 공유 텀블러 대여 시스템 텀블링 주제 선정 분석 필요 년 통계 데이터 분석 활용 대회 분석 배경 텀블링 세부 프로세스 주제 선정 분석 필요 년 통계 데이터 분석 활용 대회 예산 한정 때문 최적 위치 선정 필수 적임 접근 곳 설치 이용 회수 수 시행 과정 문제점 확인 개선 시범 운영 필수 분석 배경 분석 목적 시범 운영 자판기 최적 위치 선정 제도 안정 정착 텀블링 자판기 최적 위치 선정 시범 운영 필요 분석 목적 저 도 안정 정착 최적 위치 선정 최적 위치 선정 시범 운영 시범 운영 년 통계 데이터 분석 활용 대회 분석 배경 분석 전략 서울시 시범 운영 자치구 설정 강남구 본 팀 시범 운영 지역 서울시 선정 함 카페 발생 일 회 컵 사용량 증가 출처 김하경 회 투명 컵 매장 나 사용 금지 규정 동아일보 출처 통계청 통계 주제 노동 경제 커피 전문점 변화 서울시 카페 수 강남구 카페 일 회 컵 사용량 영향 요인 지표 설정 후 지표 바탕 적합 법정 동 선택 함 머신 러닝 기법 이용 법정 동 내 텀블링 자판기 최적 위치 선정 년 통계 데이터 분석 활용 대회 데이터 분석 자료 출처 지표 세부 내역 데이터 분석 년 통계 데이터 분석 활용 대회 데이터 분석 자료 출처 지표 세부 내역 출처 자료 원 명 연도 산출 지표 사용 목적 통계청 통계 주제 주거 교통 아파트 현황 서울시 강남구 동 아파트 수호 산출 강남구 최적 위치 동 선정 통계 주제 노동 경제 사업체 수 분포 현황 서울시 강남구 동 사업체 수 개 산출 커피 전문점 변화 서울시 강남구 동 커피 전문점 개 산출 강남구 최적 위치 동 선정 네이버 네이버 지도 서울시 강남구 동 지하철역 수개 위치 정보 산출 강남구 최적 위치 동 선정 서울시 데이터 광장 서울 교통 공사 지하철역 주소 전화번호 정보 동 내 최적 위치 선정 스타벅스 홈페이지 스타벅스 매장 서울시 강남구 스타벅스 매장 위치 정보 산출 동 내 최적 위치 선정 년 통계 데이터 분석 활용 대회 데이터 분석 제공 자료 행정 동 기준 지도 법정동 기준 행정 동 법정 동 분류 단 세곡동 경우 개 법정 동 세곡동 자 곡동 율현동 세곡동 해당 관측값 분배 행정 동 로 자료 법정 동 로 법정 동 해당 행정 동의 관측값 지하철역 스타벅스 위치 데이터 도로명 주소 지하철역 스타벅스 위치 정보 변환 지도 표현 표준 데이터 셋 점검 서비스 기능 이용 도로명 주소 위치 정보 변환 행정 동 법정동 전처리 데이터 분석 년 통계 데이터 분석 활용 대회 데이터 분석 카페 이용 관련 요인 카페 수 카페 수 카페 이용 고객 의미 사업체 수 소득 직장인 경우 카페 이용 횟수 회 이상 경우 사업체 수 카페 이용 고객 수 유동 인구 관련 요인 지하철역 수 지하철역 수 접근 유동 인구 의미 아파트 수 아파트 수 주거 인구 생활 인구 의미 지표 설정 텀블링 서비스 수요 기반 강남구 내 시범 운영 진행 법정 동 선택 강남구 개 법정 동 다음 요인 도출 지표 순위 결정 순서 가중 부여 지표 설정 요인 단위 등수 가중 데이터 분석 년 통계 데이터 분석 활용 대회 데이터 분석 지표 설정 합산 값 순 최종 등수 지정 합산 값 커피 전문점 수 등수 사 업체 수 등수 지하철역 수 등수 아파트 수 등수 카페 수 동 사업체 수 동 지하철역 동 아파트 수 최종 결과 강남구 내 최적 법정동 역삼동 데이터 분석 년 통계 데이터 분석 활용 대회 데이터 분석 데이터 분석 지하철역 위치 정보 스타벅스 위치 정보 지하철 역 주변 유동 인구 접근 텀블링 서비스 이용 회수 영향 요인 텀블링 카페 이용자 대상 서비스 카페 주변 설치 때 스타벅스 기존 매장 위치 구애 매장 신설 위치 커피 수요 판단 가능 이용 역삼동 내 스타벅스 매장 지하철역 중첩 개 군집 나눔 각 군집 중심점 텀블링 자판기 최적 위치 법정동 내 텀블링 자판기 최적 위치 선정 년 통계 데이터 분석 활용 대회 분석 결과 년 통계 데이터 분석 활용 대회 분석 결과 군집 내 제곱 합 그래프 군집 수 선택 방법 축 축 감소 지점 팔꿈치 고함 이용 최적 개수 그래프 결과 해석 그래프 군집 내 제곱 합 때 기울기 가 이상 때 최적 의미 일 때 시행 년 통계 데이터 분석 활용 대회 분석 결과 가 군집 것 해석 지하철역 근접 대로변 위치 접근 판단 일 때 군집 결과 비교 결과 비교 년 통계 데이터 분석 활용 대회 색상 동일 군집 지하철 역 스타벅스 최적 위치 분석 결과 서울특별시 강남구 역삼동 논현로 길 서울특별시 강남구 역삼동 강남대로 길 서울특별시 강남구 역삼 동 서울특별시 강남구 역삼동 봉은사 강남구 역삼동 텀블링 시범 운영 대의 자판기 근 방중 대로변 설치 결과 강남구 역삼동 내 최적 위치 년 통계 데이터 분석 활용 대회 분석 활용 전략 기대 효과 실현 가능 년 통계 데이터 분석 활용 대회 분석 활용 전략 년 동안 일 회 플라스틱 컵 사용 시 텀블러 사용 시 배 온실 가스 배출 텀블링 활성 자원 사용 카페 소비 일 회 컵 발생량 감축 기대 효과 전국 시행 장기 온실가스 탄소 배출량 감축 기여 출처 유민 온실가스 환경 텀블러 일자리 텀블링 창출 가능 일자리 한국판 그린 뉴딜 목표 만 일자리 창출 기여 환경 보호 개선 등 기능 포함 재화 생산 일자리 텀블링 어플 구축 관리 디지털 기술 청년 인재 고용 청년 실업 문제 해결 텀블러 세척 수거 적재 세대 고용 노인 일자리 문제 해결 탄소 배출량 절감 일자리 창출 년 통계 데이터 분석 활용 대회 분석 활용 전략 실현 가능 스타벅스 텔레콤 에코 제주 프로젝트 스타벅스 제주도 개 지점 에코 지점 지정 일 회 컵 사용 중단 환경 캠페인 월 일 실시 시민 적극 참여 유도 보상 체계 도입 일회 플라스틱 사용 저감 보상 체계 필요 텀블링 이용 시 할인 적립 보상 제공 환경 프로젝트 성공 사례 환경 프로젝트 성공 사례 텀블링 실현 가능 것 기대 일회 플라스틱 사용량 방법 무엇 효과 년 통계 데이터 분석 활용 대회 출처 스타벅스 등에코벤저스 회 컵 청정 제주 년 통계 데이터 분석 활용 대회'"
      ]
     },
     "execution_count": 8,
     "metadata": {},
     "output_type": "execute_result"
    }
   ],
   "source": [
    "pdf.pre_text"
   ]
  },
  {
   "cell_type": "code",
   "execution_count": 5,
   "metadata": {},
   "outputs": [],
   "source": [
    "input_dir = 'data/input/'\n",
    "for file_name in os.listdir(input_dir):\n",
    "    # print(file_name)\n",
    "    util.dir_Update(file_name)"
   ]
  },
  {
   "cell_type": "code",
   "execution_count": null,
   "metadata": {},
   "outputs": [],
   "source": []
  },
  {
   "cell_type": "code",
   "execution_count": 2,
   "metadata": {},
   "outputs": [],
   "source": [
    "ppt = PPT_Info_Extract()"
   ]
  },
  {
   "cell_type": "code",
   "execution_count": 3,
   "metadata": {},
   "outputs": [],
   "source": [
    "ppt.image_blob = 'ss'"
   ]
  },
  {
   "cell_type": "code",
   "execution_count": 4,
   "metadata": {},
   "outputs": [],
   "source": [
    "ppt.reset()"
   ]
  },
  {
   "cell_type": "code",
   "execution_count": 5,
   "metadata": {},
   "outputs": [
    {
     "ename": "FileNotFoundError",
     "evalue": "[Errno 2] No such file or directory: 'data/res/image_001.png'",
     "output_type": "error",
     "traceback": [
      "\u001b[0;31m---------------------------------------------------------------------------\u001b[0m",
      "\u001b[0;31mFileNotFoundError\u001b[0m                         Traceback (most recent call last)",
      "\u001b[0;32m/var/folders/6l/xb97c1s56114bywmg2k5qs8c0000gn/T/ipykernel_88368/3188695291.py\u001b[0m in \u001b[0;36m<module>\u001b[0;34m\u001b[0m\n\u001b[1;32m      1\u001b[0m \u001b[0mpath\u001b[0m \u001b[0;34m=\u001b[0m \u001b[0;34m'data/original/deep_learning_intro.pptx'\u001b[0m\u001b[0;34m\u001b[0m\u001b[0;34m\u001b[0m\u001b[0m\n\u001b[0;32m----> 2\u001b[0;31m \u001b[0mppt\u001b[0m\u001b[0;34m.\u001b[0m\u001b[0mextract\u001b[0m\u001b[0;34m(\u001b[0m\u001b[0mpath\u001b[0m\u001b[0;34m)\u001b[0m\u001b[0;34m\u001b[0m\u001b[0;34m\u001b[0m\u001b[0m\n\u001b[0m",
      "\u001b[0;32m~/Desktop/DeepLearning/Simila/module.py\u001b[0m in \u001b[0;36mextract\u001b[0;34m(self, path)\u001b[0m\n\u001b[1;32m     84\u001b[0m             \u001b[0mself\u001b[0m\u001b[0;34m.\u001b[0m\u001b[0mpage_num\u001b[0m \u001b[0;34m=\u001b[0m \u001b[0midx\u001b[0m\u001b[0;34m+\u001b[0m\u001b[0;36m1\u001b[0m\u001b[0;34m\u001b[0m\u001b[0;34m\u001b[0m\u001b[0m\n\u001b[1;32m     85\u001b[0m             \u001b[0;32mfor\u001b[0m \u001b[0mshape\u001b[0m \u001b[0;32min\u001b[0m \u001b[0mslide\u001b[0m\u001b[0;34m.\u001b[0m\u001b[0mshapes\u001b[0m\u001b[0;34m:\u001b[0m\u001b[0;34m\u001b[0m\u001b[0;34m\u001b[0m\u001b[0m\n\u001b[0;32m---> 86\u001b[0;31m                 \u001b[0mself\u001b[0m\u001b[0;34m.\u001b[0m\u001b[0mgroup_check\u001b[0m\u001b[0;34m(\u001b[0m\u001b[0mshape\u001b[0m\u001b[0;34m)\u001b[0m\u001b[0;34m\u001b[0m\u001b[0;34m\u001b[0m\u001b[0m\n\u001b[0m\u001b[1;32m     87\u001b[0m \u001b[0;34m\u001b[0m\u001b[0m\n\u001b[1;32m     88\u001b[0m         \u001b[0mself\u001b[0m\u001b[0;34m.\u001b[0m\u001b[0mlast\u001b[0m\u001b[0;34m(\u001b[0m\u001b[0;34m)\u001b[0m\u001b[0;34m\u001b[0m\u001b[0;34m\u001b[0m\u001b[0m\n",
      "\u001b[0;32m~/Desktop/DeepLearning/Simila/module.py\u001b[0m in \u001b[0;36mgroup_check\u001b[0;34m(self, shape)\u001b[0m\n\u001b[1;32m    117\u001b[0m         \u001b[0;31m# 그룹 모형 아님\u001b[0m\u001b[0;34m\u001b[0m\u001b[0;34m\u001b[0m\u001b[0;34m\u001b[0m\u001b[0m\n\u001b[1;32m    118\u001b[0m         \u001b[0;32melse\u001b[0m\u001b[0;34m:\u001b[0m\u001b[0;34m\u001b[0m\u001b[0;34m\u001b[0m\u001b[0m\n\u001b[0;32m--> 119\u001b[0;31m             \u001b[0mself\u001b[0m\u001b[0;34m.\u001b[0m\u001b[0minfo_extract\u001b[0m\u001b[0;34m(\u001b[0m\u001b[0mshape\u001b[0m\u001b[0;34m)\u001b[0m\u001b[0;34m\u001b[0m\u001b[0;34m\u001b[0m\u001b[0m\n\u001b[0m\u001b[1;32m    120\u001b[0m \u001b[0;34m\u001b[0m\u001b[0m\n\u001b[1;32m    121\u001b[0m     \u001b[0;32mdef\u001b[0m \u001b[0minfo_extract\u001b[0m\u001b[0;34m(\u001b[0m\u001b[0mself\u001b[0m\u001b[0;34m,\u001b[0m \u001b[0mshape\u001b[0m\u001b[0;34m)\u001b[0m\u001b[0;34m:\u001b[0m\u001b[0;34m\u001b[0m\u001b[0;34m\u001b[0m\u001b[0m\n",
      "\u001b[0;32m~/Desktop/DeepLearning/Simila/module.py\u001b[0m in \u001b[0;36minfo_extract\u001b[0;34m(self, shape)\u001b[0m\n\u001b[1;32m    135\u001b[0m                         \u001b[0mnum\u001b[0m \u001b[0;34m=\u001b[0m \u001b[0mstr\u001b[0m\u001b[0;34m(\u001b[0m\u001b[0mself\u001b[0m\u001b[0;34m.\u001b[0m\u001b[0mimg_num\u001b[0m\u001b[0;34m)\u001b[0m\u001b[0;34m.\u001b[0m\u001b[0mzfill\u001b[0m\u001b[0;34m(\u001b[0m\u001b[0;36m3\u001b[0m\u001b[0;34m)\u001b[0m\u001b[0;34m\u001b[0m\u001b[0;34m\u001b[0m\u001b[0m\n\u001b[1;32m    136\u001b[0m                         \u001b[0msave_path\u001b[0m \u001b[0;34m=\u001b[0m\u001b[0;34mf\"data/res/image_{num}.{ext}\"\u001b[0m\u001b[0;34m\u001b[0m\u001b[0;34m\u001b[0m\u001b[0m\n\u001b[0;32m--> 137\u001b[0;31m                         \u001b[0;32mwith\u001b[0m \u001b[0mopen\u001b[0m\u001b[0;34m(\u001b[0m\u001b[0msave_path\u001b[0m\u001b[0;34m,\u001b[0m \u001b[0;34m\"wb\"\u001b[0m\u001b[0;34m)\u001b[0m \u001b[0;32mas\u001b[0m \u001b[0mfile\u001b[0m\u001b[0;34m:\u001b[0m\u001b[0;34m\u001b[0m\u001b[0;34m\u001b[0m\u001b[0m\n\u001b[0m\u001b[1;32m    138\u001b[0m                             \u001b[0mfile\u001b[0m\u001b[0;34m.\u001b[0m\u001b[0mwrite\u001b[0m\u001b[0;34m(\u001b[0m\u001b[0mimage_blob\u001b[0m\u001b[0;34m)\u001b[0m\u001b[0;34m\u001b[0m\u001b[0;34m\u001b[0m\u001b[0m\n\u001b[1;32m    139\u001b[0m                         \u001b[0mself\u001b[0m\u001b[0;34m.\u001b[0m\u001b[0mimage_blob\u001b[0m\u001b[0;34m.\u001b[0m\u001b[0mappend\u001b[0m\u001b[0;34m(\u001b[0m\u001b[0mimage_blob\u001b[0m\u001b[0;34m)\u001b[0m\u001b[0;34m\u001b[0m\u001b[0;34m\u001b[0m\u001b[0m\n",
      "\u001b[0;31mFileNotFoundError\u001b[0m: [Errno 2] No such file or directory: 'data/res/image_001.png'"
     ]
    }
   ],
   "source": [
    "path = 'data/original/deep_learning_intro.pptx'\n",
    "ppt.extract(path)"
   ]
  },
  {
   "cell_type": "code",
   "execution_count": 13,
   "metadata": {},
   "outputs": [],
   "source": [
    "import os\n",
    "# os.listdir()\n",
    "\n",
    "def createFolder(name):\n",
    "    path = '/Users/ktg/Desktop/DeepLearning/Simila/data/res'\n",
    "    directory = path + '/' + name\n",
    "    try:\n",
    "        # 새로운 name\n",
    "        if not os.path.exists(directory):\n",
    "            os.mkdir(directory)\n",
    "        \n",
    "        # 이미 존재 name\n",
    "        else:\n",
    "            pass\n",
    "        \n",
    "    except OSError:\n",
    "        print('Error: Creating directory.' + directory)\n",
    "            \n",
    "createFolder('hellos')"
   ]
  },
  {
   "cell_type": "code",
   "execution_count": 37,
   "metadata": {},
   "outputs": [],
   "source": [
    "import os\n",
    "import shutil\n",
    "\n",
    "for file_name in os.listdir(input_dir):\n",
    "    dir_Update(file_name)\n",
    "\n",
    "def dir_Update(file_name):\n",
    "    input_dir = 'data/input/'\n",
    "    res_dir = 'data/image/'\n",
    "    data_dir = 'data/original/'\n",
    "    \n",
    "    name, ext = os.path.splitext(file_name)\n",
    "    input_path = os.path.join(input_dir, file_name)\n",
    "    img_path = os.path.join(res_dir, name)\n",
    "    data_path = os.path.join(data_dir, file_name)\n",
    "    \n",
    "    if os.path.isfile(data_path):\n",
    "        with open(input_path, 'rb') as input_file, open(data_path, 'rb') as data_file:\n",
    "            input_content = input_file.read()\n",
    "            data_content = data_file.read()\n",
    "            if input_content == data_content:\n",
    "                print(f\"{file_name} already exists\")\n",
    "            else:\n",
    "                # file 이름 변경 후 다시 재귀하기\n",
    "                print(f\"{file_name} 이름이 같은 파일이 존재 - 이름을 변경해서 올려주세요\")\n",
    "                # os.rename()\n",
    "    else:\n",
    "        os.makedirs(img_path)\n",
    "        shutil.move(input_path, data_dir)\n"
   ]
  },
  {
   "cell_type": "code",
   "execution_count": null,
   "metadata": {},
   "outputs": [],
   "source": []
  }
 ],
 "metadata": {
  "kernelspec": {
   "display_name": "ppt_3_7",
   "language": "python",
   "name": "python3"
  },
  "language_info": {
   "codemirror_mode": {
    "name": "ipython",
    "version": 3
   },
   "file_extension": ".py",
   "mimetype": "text/x-python",
   "name": "python",
   "nbconvert_exporter": "python",
   "pygments_lexer": "ipython3",
   "version": "3.7.16"
  },
  "orig_nbformat": 4,
  "vscode": {
   "interpreter": {
    "hash": "a0cc08dc29aad09da65be7821d0eeaddf64caec4e877dc2ce9e5b3cd8bcad43f"
   }
  }
 },
 "nbformat": 4,
 "nbformat_minor": 2
}
