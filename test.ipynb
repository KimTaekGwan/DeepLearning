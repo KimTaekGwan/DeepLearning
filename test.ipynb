{
 "cells": [
  {
   "cell_type": "code",
   "execution_count": 1,
   "metadata": {},
   "outputs": [],
   "source": [
    "x_auth_token = '3ab5a6e167b7aa06d9667863aa3f8d95'\n",
    "base_url = 'https://huqeyhi95c.execute-api.ap-northeast-2.amazonaws.com/prod'"
   ]
  },
  {
   "cell_type": "code",
   "execution_count": null,
   "metadata": {},
   "outputs": [],
   "source": [
    "import requests\n",
    "from requests.structures import CaseInsensitiveDict"
   ]
  },
  {
   "cell_type": "code",
   "execution_count": 52,
   "metadata": {},
   "outputs": [],
   "source": [
    "def post_api(text, type, data=None):\n",
    "    url = f\"https://huqeyhi95c.execute-api.ap-northeast-2.amazonaws.com/prod/{text}\"\n",
    "\n",
    "    headers = CaseInsensitiveDict()\n",
    "    headers[\"X-Auth-Token\"] = \"3ab5a6e167b7aa06d9667863aa3f8d95\"\n",
    "    headers[\"Authorization\"] = \"006b147c-0ab4-4be2-a0c2-4cc6829ab0b5\"\n",
    "    headers[\"Content-Type\"] = \"application/json\"\n",
    "\n",
    "    if type == 1:\n",
    "        if data:\n",
    "            resp = requests.get(url, headers=headers, data=data)\n",
    "        else:\n",
    "            resp = requests.get(url, headers=headers)\n",
    "    else:\n",
    "        if data:\n",
    "            resp = requests.post(url, headers=headers, data=data)\n",
    "        else:\n",
    "            resp = requests.post(url, headers=headers)\n",
    "    return resp"
   ]
  },
  {
   "cell_type": "code",
   "execution_count": 53,
   "metadata": {},
   "outputs": [],
   "source": [
    "user_info = post_api('user_info',1)"
   ]
  },
  {
   "cell_type": "code",
   "execution_count": 55,
   "metadata": {},
   "outputs": [
    {
     "data": {
      "text/plain": [
       "{'user_info': [{'id': 1, 'grade': 0},\n",
       "  {'id': 2, 'grade': 0},\n",
       "  {'id': 3, 'grade': 0},\n",
       "  {'id': 4, 'grade': 0},\n",
       "  {'id': 5, 'grade': 0},\n",
       "  {'id': 6, 'grade': 0},\n",
       "  {'id': 7, 'grade': 0},\n",
       "  {'id': 8, 'grade': 0},\n",
       "  {'id': 9, 'grade': 0},\n",
       "  {'id': 10, 'grade': 0},\n",
       "  {'id': 11, 'grade': 0},\n",
       "  {'id': 12, 'grade': 0},\n",
       "  {'id': 13, 'grade': 0},\n",
       "  {'id': 14, 'grade': 0},\n",
       "  {'id': 15, 'grade': 0},\n",
       "  {'id': 16, 'grade': 0},\n",
       "  {'id': 17, 'grade': 0},\n",
       "  {'id': 18, 'grade': 0},\n",
       "  {'id': 19, 'grade': 0},\n",
       "  {'id': 20, 'grade': 0},\n",
       "  {'id': 21, 'grade': 0},\n",
       "  {'id': 22, 'grade': 0},\n",
       "  {'id': 23, 'grade': 0},\n",
       "  {'id': 24, 'grade': 0},\n",
       "  {'id': 25, 'grade': 0},\n",
       "  {'id': 26, 'grade': 0},\n",
       "  {'id': 27, 'grade': 0},\n",
       "  {'id': 28, 'grade': 0},\n",
       "  {'id': 29, 'grade': 0},\n",
       "  {'id': 30, 'grade': 0}]}"
      ]
     },
     "execution_count": 55,
     "metadata": {},
     "output_type": "execute_result"
    }
   ],
   "source": [
    "user_info.json()"
   ]
  },
  {
   "cell_type": "code",
   "execution_count": 27,
   "metadata": {},
   "outputs": [
    {
     "name": "stdout",
     "output_type": "stream",
     "text": [
      "200\n"
     ]
    }
   ],
   "source": [
    "url = \"https://huqeyhi95c.execute-api.ap-northeast-2.amazonaws.com/prod/start\"\n",
    "\n",
    "headers = CaseInsensitiveDict()\n",
    "headers[\"X-Auth-Token\"] = \"3ab5a6e167b7aa06d9667863aa3f8d95\"\n",
    "headers[\"Content-Type\"] = \"application/json\"\n",
    "\n",
    "data = \"\"\"{\"problem\": 1}\"\"\"\n",
    "\n",
    "\n",
    "resp = requests.post(url, headers=headers, data=data)\n",
    "\n",
    "print(resp.status_code)"
   ]
  },
  {
   "cell_type": "code",
   "execution_count": 28,
   "metadata": {},
   "outputs": [
    {
     "data": {
      "text/plain": [
       "{'auth_key': '2bb83543-d7c8-432b-9860-aba7de553d1a', 'problem': 1, 'time': 0}"
      ]
     },
     "execution_count": 28,
     "metadata": {},
     "output_type": "execute_result"
    }
   ],
   "source": [
    "resp.json()"
   ]
  },
  {
   "cell_type": "code",
   "execution_count": null,
   "metadata": {},
   "outputs": [],
   "source": []
  }
 ],
 "metadata": {
  "kernelspec": {
   "display_name": "base",
   "language": "python",
   "name": "python3"
  },
  "language_info": {
   "codemirror_mode": {
    "name": "ipython",
    "version": 3
   },
   "file_extension": ".py",
   "mimetype": "text/x-python",
   "name": "python",
   "nbconvert_exporter": "python",
   "pygments_lexer": "ipython3",
   "version": "3.9.13"
  },
  "orig_nbformat": 4,
  "vscode": {
   "interpreter": {
    "hash": "40d3a090f54c6569ab1632332b64b2c03c39dcf918b08424e98f38b5ae0af88f"
   }
  }
 },
 "nbformat": 4,
 "nbformat_minor": 2
}
