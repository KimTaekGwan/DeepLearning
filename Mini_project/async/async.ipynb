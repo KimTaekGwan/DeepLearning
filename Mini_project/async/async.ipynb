{
 "cells": [
  {
   "cell_type": "code",
   "execution_count": 2,
   "metadata": {},
   "outputs": [],
   "source": [
    "import time\n",
    "import asyncio"
   ]
  },
  {
   "cell_type": "code",
   "execution_count": 2,
   "metadata": {},
   "outputs": [],
   "source": [
    "def find_users_sync(n):\n",
    "    for i in range(1, n + 1):\n",
    "        print(f'{n}명 중 {i}번 째 사용자 조회 중 ...')\n",
    "        time.sleep(1)\n",
    "    print(f'> 총 {n} 명 사용자 동기 조회 완료!')"
   ]
  },
  {
   "cell_type": "code",
   "execution_count": 3,
   "metadata": {},
   "outputs": [],
   "source": [
    "def process_sync():\n",
    "    start = time.time()\n",
    "    find_users_sync(3)\n",
    "    find_users_sync(2)\n",
    "    find_users_sync(1)\n",
    "    end = time.time()\n",
    "    print(f'>>> 동기 처리 총 소요 시간: {end - start}')"
   ]
  },
  {
   "cell_type": "code",
   "execution_count": 4,
   "metadata": {},
   "outputs": [
    {
     "name": "stdout",
     "output_type": "stream",
     "text": [
      "3명 중 1번 째 사용자 조회 중 ...\n",
      "3명 중 2번 째 사용자 조회 중 ...\n",
      "3명 중 3번 째 사용자 조회 중 ...\n",
      "> 총 3 명 사용자 동기 조회 완료!\n",
      "2명 중 1번 째 사용자 조회 중 ...\n",
      "2명 중 2번 째 사용자 조회 중 ...\n",
      "> 총 2 명 사용자 동기 조회 완료!\n",
      "1명 중 1번 째 사용자 조회 중 ...\n",
      "> 총 1 명 사용자 동기 조회 완료!\n",
      ">>> 동기 처리 총 소요 시간: 6.028141975402832\n"
     ]
    }
   ],
   "source": [
    "process_sync()"
   ]
  },
  {
   "cell_type": "code",
   "execution_count": 3,
   "metadata": {},
   "outputs": [],
   "source": [
    "async def find_users_async(n):\n",
    "    for i in range(1, n + 1):\n",
    "        print(f'{n}명 중 {i}번 째 사용자 조회 중 ...')\n",
    "        await asyncio.sleep(1)\n",
    "    print(f'> 총 {n} 명 사용자 비동기 조회 완료!')"
   ]
  },
  {
   "cell_type": "code",
   "execution_count": 4,
   "metadata": {},
   "outputs": [],
   "source": [
    "async def process_async():\n",
    "    start = time.time()\n",
    "    await asyncio.wait([\n",
    "        find_users_async(3),\n",
    "        find_users_async(2),\n",
    "        find_users_async(1),\n",
    "    ])\n",
    "    end = time.time()\n",
    "    print(f'>>> 비동기 처리 총 소요 시간: {end - start}')"
   ]
  }
 ],
 "metadata": {
  "kernelspec": {
   "display_name": "Python 3",
   "language": "python",
   "name": "python3"
  },
  "language_info": {
   "codemirror_mode": {
    "name": "ipython",
    "version": 3
   },
   "file_extension": ".py",
   "mimetype": "text/x-python",
   "name": "python",
   "nbconvert_exporter": "python",
   "pygments_lexer": "ipython3",
   "version": "3.9.6"
  },
  "orig_nbformat": 4
 },
 "nbformat": 4,
 "nbformat_minor": 2
}
